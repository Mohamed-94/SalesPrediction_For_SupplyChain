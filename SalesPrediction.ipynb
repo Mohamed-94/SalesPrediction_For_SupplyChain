{
 "cells": [
  {
   "cell_type": "markdown",
   "metadata": {
    "_cell_guid": "f1dabba2-b5b9-4f6a-8608-09619fb626ef",
    "_uuid": "3bdfbc41ee048520cb0ed06b8e2e8948f2be8150"
   },
   "source": [
    " # Loading Libraries and Data"
   ]
  },
  {
   "cell_type": "code",
   "execution_count": 1,
   "metadata": {
    "_cell_guid": "f79946d3-c72e-4c12-8bec-46d62a1dfd93",
    "_uuid": "3b692ebafdb3c04a75dfc9784816fb39e0806abd"
   },
   "outputs": [
    {
     "name": "stderr",
     "output_type": "stream",
     "text": [
      "Using TensorFlow backend.\n"
     ]
    },
    {
     "ename": "FileNotFoundError",
     "evalue": "[Errno 2] File b'../input/sales_train.csv' does not exist: b'../input/sales_train.csv'",
     "output_type": "error",
     "traceback": [
      "\u001b[1;31m---------------------------------------------------------------------------\u001b[0m",
      "\u001b[1;31mFileNotFoundError\u001b[0m                         Traceback (most recent call last)",
      "\u001b[1;32m<ipython-input-1-038ae529f0ee>\u001b[0m in \u001b[0;36m<module>\u001b[1;34m\u001b[0m\n\u001b[0;32m     19\u001b[0m \u001b[0mget_ipython\u001b[0m\u001b[1;33m(\u001b[0m\u001b[1;33m)\u001b[0m\u001b[1;33m.\u001b[0m\u001b[0mrun_line_magic\u001b[0m\u001b[1;33m(\u001b[0m\u001b[1;34m'matplotlib'\u001b[0m\u001b[1;33m,\u001b[0m \u001b[1;34m'inline'\u001b[0m\u001b[1;33m)\u001b[0m\u001b[1;33m\u001b[0m\u001b[1;33m\u001b[0m\u001b[0m\n\u001b[0;32m     20\u001b[0m \u001b[1;33m\u001b[0m\u001b[0m\n\u001b[1;32m---> 21\u001b[1;33m \u001b[0mtrain\u001b[0m \u001b[1;33m=\u001b[0m \u001b[0mpd\u001b[0m\u001b[1;33m.\u001b[0m\u001b[0mread_csv\u001b[0m\u001b[1;33m(\u001b[0m\u001b[1;34m'../input/sales_train.csv'\u001b[0m\u001b[1;33m)\u001b[0m\u001b[1;33m\u001b[0m\u001b[1;33m\u001b[0m\u001b[0m\n\u001b[0m\u001b[0;32m     22\u001b[0m \u001b[0mtest\u001b[0m \u001b[1;33m=\u001b[0m \u001b[0mpd\u001b[0m\u001b[1;33m.\u001b[0m\u001b[0mread_csv\u001b[0m\u001b[1;33m(\u001b[0m\u001b[1;34m'../input/test.csv'\u001b[0m\u001b[1;33m)\u001b[0m\u001b[1;33m\u001b[0m\u001b[1;33m\u001b[0m\u001b[0m\n\u001b[0;32m     23\u001b[0m \u001b[0msubmission\u001b[0m \u001b[1;33m=\u001b[0m \u001b[0mpd\u001b[0m\u001b[1;33m.\u001b[0m\u001b[0mread_csv\u001b[0m\u001b[1;33m(\u001b[0m\u001b[1;34m'../input/sample_submission.csv'\u001b[0m\u001b[1;33m)\u001b[0m\u001b[1;33m\u001b[0m\u001b[1;33m\u001b[0m\u001b[0m\n",
      "\u001b[1;32m~\\Miniconda3\\envs\\myenv\\lib\\site-packages\\pandas\\io\\parsers.py\u001b[0m in \u001b[0;36mparser_f\u001b[1;34m(filepath_or_buffer, sep, delimiter, header, names, index_col, usecols, squeeze, prefix, mangle_dupe_cols, dtype, engine, converters, true_values, false_values, skipinitialspace, skiprows, skipfooter, nrows, na_values, keep_default_na, na_filter, verbose, skip_blank_lines, parse_dates, infer_datetime_format, keep_date_col, date_parser, dayfirst, iterator, chunksize, compression, thousands, decimal, lineterminator, quotechar, quoting, doublequote, escapechar, comment, encoding, dialect, tupleize_cols, error_bad_lines, warn_bad_lines, delim_whitespace, low_memory, memory_map, float_precision)\u001b[0m\n\u001b[0;32m    700\u001b[0m                     skip_blank_lines=skip_blank_lines)\n\u001b[0;32m    701\u001b[0m \u001b[1;33m\u001b[0m\u001b[0m\n\u001b[1;32m--> 702\u001b[1;33m         \u001b[1;32mreturn\u001b[0m \u001b[0m_read\u001b[0m\u001b[1;33m(\u001b[0m\u001b[0mfilepath_or_buffer\u001b[0m\u001b[1;33m,\u001b[0m \u001b[0mkwds\u001b[0m\u001b[1;33m)\u001b[0m\u001b[1;33m\u001b[0m\u001b[1;33m\u001b[0m\u001b[0m\n\u001b[0m\u001b[0;32m    703\u001b[0m \u001b[1;33m\u001b[0m\u001b[0m\n\u001b[0;32m    704\u001b[0m     \u001b[0mparser_f\u001b[0m\u001b[1;33m.\u001b[0m\u001b[0m__name__\u001b[0m \u001b[1;33m=\u001b[0m \u001b[0mname\u001b[0m\u001b[1;33m\u001b[0m\u001b[1;33m\u001b[0m\u001b[0m\n",
      "\u001b[1;32m~\\Miniconda3\\envs\\myenv\\lib\\site-packages\\pandas\\io\\parsers.py\u001b[0m in \u001b[0;36m_read\u001b[1;34m(filepath_or_buffer, kwds)\u001b[0m\n\u001b[0;32m    427\u001b[0m \u001b[1;33m\u001b[0m\u001b[0m\n\u001b[0;32m    428\u001b[0m     \u001b[1;31m# Create the parser.\u001b[0m\u001b[1;33m\u001b[0m\u001b[1;33m\u001b[0m\u001b[1;33m\u001b[0m\u001b[0m\n\u001b[1;32m--> 429\u001b[1;33m     \u001b[0mparser\u001b[0m \u001b[1;33m=\u001b[0m \u001b[0mTextFileReader\u001b[0m\u001b[1;33m(\u001b[0m\u001b[0mfilepath_or_buffer\u001b[0m\u001b[1;33m,\u001b[0m \u001b[1;33m**\u001b[0m\u001b[0mkwds\u001b[0m\u001b[1;33m)\u001b[0m\u001b[1;33m\u001b[0m\u001b[1;33m\u001b[0m\u001b[0m\n\u001b[0m\u001b[0;32m    430\u001b[0m \u001b[1;33m\u001b[0m\u001b[0m\n\u001b[0;32m    431\u001b[0m     \u001b[1;32mif\u001b[0m \u001b[0mchunksize\u001b[0m \u001b[1;32mor\u001b[0m \u001b[0miterator\u001b[0m\u001b[1;33m:\u001b[0m\u001b[1;33m\u001b[0m\u001b[1;33m\u001b[0m\u001b[0m\n",
      "\u001b[1;32m~\\Miniconda3\\envs\\myenv\\lib\\site-packages\\pandas\\io\\parsers.py\u001b[0m in \u001b[0;36m__init__\u001b[1;34m(self, f, engine, **kwds)\u001b[0m\n\u001b[0;32m    893\u001b[0m             \u001b[0mself\u001b[0m\u001b[1;33m.\u001b[0m\u001b[0moptions\u001b[0m\u001b[1;33m[\u001b[0m\u001b[1;34m'has_index_names'\u001b[0m\u001b[1;33m]\u001b[0m \u001b[1;33m=\u001b[0m \u001b[0mkwds\u001b[0m\u001b[1;33m[\u001b[0m\u001b[1;34m'has_index_names'\u001b[0m\u001b[1;33m]\u001b[0m\u001b[1;33m\u001b[0m\u001b[1;33m\u001b[0m\u001b[0m\n\u001b[0;32m    894\u001b[0m \u001b[1;33m\u001b[0m\u001b[0m\n\u001b[1;32m--> 895\u001b[1;33m         \u001b[0mself\u001b[0m\u001b[1;33m.\u001b[0m\u001b[0m_make_engine\u001b[0m\u001b[1;33m(\u001b[0m\u001b[0mself\u001b[0m\u001b[1;33m.\u001b[0m\u001b[0mengine\u001b[0m\u001b[1;33m)\u001b[0m\u001b[1;33m\u001b[0m\u001b[1;33m\u001b[0m\u001b[0m\n\u001b[0m\u001b[0;32m    896\u001b[0m \u001b[1;33m\u001b[0m\u001b[0m\n\u001b[0;32m    897\u001b[0m     \u001b[1;32mdef\u001b[0m \u001b[0mclose\u001b[0m\u001b[1;33m(\u001b[0m\u001b[0mself\u001b[0m\u001b[1;33m)\u001b[0m\u001b[1;33m:\u001b[0m\u001b[1;33m\u001b[0m\u001b[1;33m\u001b[0m\u001b[0m\n",
      "\u001b[1;32m~\\Miniconda3\\envs\\myenv\\lib\\site-packages\\pandas\\io\\parsers.py\u001b[0m in \u001b[0;36m_make_engine\u001b[1;34m(self, engine)\u001b[0m\n\u001b[0;32m   1120\u001b[0m     \u001b[1;32mdef\u001b[0m \u001b[0m_make_engine\u001b[0m\u001b[1;33m(\u001b[0m\u001b[0mself\u001b[0m\u001b[1;33m,\u001b[0m \u001b[0mengine\u001b[0m\u001b[1;33m=\u001b[0m\u001b[1;34m'c'\u001b[0m\u001b[1;33m)\u001b[0m\u001b[1;33m:\u001b[0m\u001b[1;33m\u001b[0m\u001b[1;33m\u001b[0m\u001b[0m\n\u001b[0;32m   1121\u001b[0m         \u001b[1;32mif\u001b[0m \u001b[0mengine\u001b[0m \u001b[1;33m==\u001b[0m \u001b[1;34m'c'\u001b[0m\u001b[1;33m:\u001b[0m\u001b[1;33m\u001b[0m\u001b[1;33m\u001b[0m\u001b[0m\n\u001b[1;32m-> 1122\u001b[1;33m             \u001b[0mself\u001b[0m\u001b[1;33m.\u001b[0m\u001b[0m_engine\u001b[0m \u001b[1;33m=\u001b[0m \u001b[0mCParserWrapper\u001b[0m\u001b[1;33m(\u001b[0m\u001b[0mself\u001b[0m\u001b[1;33m.\u001b[0m\u001b[0mf\u001b[0m\u001b[1;33m,\u001b[0m \u001b[1;33m**\u001b[0m\u001b[0mself\u001b[0m\u001b[1;33m.\u001b[0m\u001b[0moptions\u001b[0m\u001b[1;33m)\u001b[0m\u001b[1;33m\u001b[0m\u001b[1;33m\u001b[0m\u001b[0m\n\u001b[0m\u001b[0;32m   1123\u001b[0m         \u001b[1;32melse\u001b[0m\u001b[1;33m:\u001b[0m\u001b[1;33m\u001b[0m\u001b[1;33m\u001b[0m\u001b[0m\n\u001b[0;32m   1124\u001b[0m             \u001b[1;32mif\u001b[0m \u001b[0mengine\u001b[0m \u001b[1;33m==\u001b[0m \u001b[1;34m'python'\u001b[0m\u001b[1;33m:\u001b[0m\u001b[1;33m\u001b[0m\u001b[1;33m\u001b[0m\u001b[0m\n",
      "\u001b[1;32m~\\Miniconda3\\envs\\myenv\\lib\\site-packages\\pandas\\io\\parsers.py\u001b[0m in \u001b[0;36m__init__\u001b[1;34m(self, src, **kwds)\u001b[0m\n\u001b[0;32m   1851\u001b[0m         \u001b[0mkwds\u001b[0m\u001b[1;33m[\u001b[0m\u001b[1;34m'usecols'\u001b[0m\u001b[1;33m]\u001b[0m \u001b[1;33m=\u001b[0m \u001b[0mself\u001b[0m\u001b[1;33m.\u001b[0m\u001b[0musecols\u001b[0m\u001b[1;33m\u001b[0m\u001b[1;33m\u001b[0m\u001b[0m\n\u001b[0;32m   1852\u001b[0m \u001b[1;33m\u001b[0m\u001b[0m\n\u001b[1;32m-> 1853\u001b[1;33m         \u001b[0mself\u001b[0m\u001b[1;33m.\u001b[0m\u001b[0m_reader\u001b[0m \u001b[1;33m=\u001b[0m \u001b[0mparsers\u001b[0m\u001b[1;33m.\u001b[0m\u001b[0mTextReader\u001b[0m\u001b[1;33m(\u001b[0m\u001b[0msrc\u001b[0m\u001b[1;33m,\u001b[0m \u001b[1;33m**\u001b[0m\u001b[0mkwds\u001b[0m\u001b[1;33m)\u001b[0m\u001b[1;33m\u001b[0m\u001b[1;33m\u001b[0m\u001b[0m\n\u001b[0m\u001b[0;32m   1854\u001b[0m         \u001b[0mself\u001b[0m\u001b[1;33m.\u001b[0m\u001b[0munnamed_cols\u001b[0m \u001b[1;33m=\u001b[0m \u001b[0mself\u001b[0m\u001b[1;33m.\u001b[0m\u001b[0m_reader\u001b[0m\u001b[1;33m.\u001b[0m\u001b[0munnamed_cols\u001b[0m\u001b[1;33m\u001b[0m\u001b[1;33m\u001b[0m\u001b[0m\n\u001b[0;32m   1855\u001b[0m \u001b[1;33m\u001b[0m\u001b[0m\n",
      "\u001b[1;32mpandas/_libs/parsers.pyx\u001b[0m in \u001b[0;36mpandas._libs.parsers.TextReader.__cinit__\u001b[1;34m()\u001b[0m\n",
      "\u001b[1;32mpandas/_libs/parsers.pyx\u001b[0m in \u001b[0;36mpandas._libs.parsers.TextReader._setup_parser_source\u001b[1;34m()\u001b[0m\n",
      "\u001b[1;31mFileNotFoundError\u001b[0m: [Errno 2] File b'../input/sales_train.csv' does not exist: b'../input/sales_train.csv'"
     ]
    }
   ],
   "source": [
    "import numpy as np\n",
    "import pandas as pd\n",
    "import matplotlib.pyplot as plt\n",
    "import seaborn as sns\n",
    "\n",
    "from datetime import datetime, date\n",
    "from dateutil.relativedelta import relativedelta\n",
    "\n",
    "from sklearn.preprocessing import StandardScaler\n",
    "\n",
    "from math import ceil\n",
    "\n",
    "from keras.callbacks import LambdaCallback\n",
    "from keras.models import Sequential\n",
    "from keras.layers import Dense, Activation\n",
    "from keras.layers import LSTM\n",
    "from keras.optimizers import RMSprop\n",
    "\n",
    "%matplotlib inline\n",
    "\n",
    "train = pd.read_csv('../input/sales_train.csv')\n",
    "test = pd.read_csv('../input/test.csv')\n",
    "submission = pd.read_csv('../input/sample_submission.csv')\n",
    "items = pd.read_csv('../input/items.csv')\n",
    "item_cats = pd.read_csv('../input/item_categories.csv')\n",
    "shops = pd.read_csv('../input/shops.csv')"
   ]
  },
  {
   "cell_type": "markdown",
   "metadata": {
    "_cell_guid": "842467ef-3750-4128-9e3b-7940e85a4771",
    "_uuid": "52ff25c86474e50b91d1598f354bf3bd61a0a8cb"
   },
   "source": [
    "First we will check if all shop and items in the test set is also in the training set."
   ]
  },
  {
   "cell_type": "code",
   "execution_count": null,
   "metadata": {
    "_cell_guid": "725b61cd-d381-4670-80ad-1bedbe47d1fe",
    "_uuid": "cbec185a49e25ec15083e1ec2e83210836611ae7",
    "collapsed": true,
    "scrolled": true
   },
   "outputs": [],
   "source": [
    "test_shops = test.shop_id.unique()\n",
    "train = train[train.shop_id.isin(test_shops)]\n",
    "test_items = test.item_id.unique()\n",
    "train = train[train.item_id.isin(test_items)]"
   ]
  },
  {
   "cell_type": "code",
   "execution_count": null,
   "metadata": {
    "_cell_guid": "8b39f6ac-b9bf-4a1a-bf1b-0a64fa3a9926",
    "_uuid": "9dead9ff9c03ea4180ff3748c338a70409b572b6",
    "collapsed": true
   },
   "outputs": [],
   "source": [
    "MAX_BLOCK_NUM = train.date_block_num.max()\n",
    "MAX_ITEM = len(test_items)\n",
    "MAX_CAT = len(item_cats)\n",
    "MAX_YEAR = 3\n",
    "MAX_MONTH = 4 # 7 8 9 10\n",
    "MAX_SHOP = len(test_shops)"
   ]
  },
  {
   "cell_type": "markdown",
   "metadata": {
    "_cell_guid": "8e46cd2f-6365-46ea-b7ca-c424dcc8c169",
    "_uuid": "0669bd58d0e50136f21abe88b25470102b8cb0fb"
   },
   "source": [
    "# Data Exploration\n",
    "Next, we would like to gain some insights about the data. I will attack from two angles, shop and item categories."
   ]
  },
  {
   "cell_type": "code",
   "execution_count": null,
   "metadata": {
    "_cell_guid": "2cc37413-d86a-4eb5-bb61-8d195adddb03",
    "_uuid": "c92dbc0ffbe6962fb5a23e9a84e13e67680d64f2",
    "collapsed": true
   },
   "outputs": [],
   "source": [
    "grouped = pd.DataFrame(train.groupby(['shop_id', 'date_block_num'])['item_cnt_day'].sum().reset_index())\n",
    "fig, axes = plt.subplots(nrows=5, ncols=2, sharex=True, sharey=True, figsize=(16,20))\n",
    "num_graph = 10\n",
    "id_per_graph = ceil(grouped.shop_id.max() / num_graph)\n",
    "count = 0\n",
    "for i in range(5):\n",
    "    for j in range(2):\n",
    "        sns.pointplot(x='date_block_num', y='item_cnt_day', hue='shop_id', data=grouped[np.logical_and(count*id_per_graph <= grouped['shop_id'], grouped['shop_id'] < (count+1)*id_per_graph)], ax=axes[i][j])\n",
    "        count += 1"
   ]
  },
  {
   "cell_type": "markdown",
   "metadata": {
    "_cell_guid": "bb808e00-3057-4964-a9a5-dc47a739128b",
    "_uuid": "42bbe35fe0ee369db79f02bae927273d6798822f"
   },
   "source": []
  },
  {
   "cell_type": "code",
   "execution_count": null,
   "metadata": {
    "_cell_guid": "d4a4783e-36ad-43ad-bd4f-7cc8aa3f0ef8",
    "_uuid": "25464ca38f70699b5abc3a2f38a85f549d39a17f",
    "collapsed": true
   },
   "outputs": [],
   "source": [
    "# add categories\n",
    "train = train.set_index('item_id').join(items.set_index('item_id')).drop('item_name', axis=1).reset_index()"
   ]
  },
  {
   "cell_type": "code",
   "execution_count": null,
   "metadata": {
    "_cell_guid": "95496fce-8030-481c-b85c-0e69585d7b12",
    "_uuid": "69b285736bbfee4bb2ff5bef7dfac80df2237b11",
    "collapsed": true
   },
   "outputs": [],
   "source": [
    "train['month'] = train.date.apply(lambda x: datetime.strptime(x, '%d.%m.%Y').strftime('%m'))\n",
    "train['year'] = train.date.apply(lambda x: datetime.strptime(x, '%d.%m.%Y').strftime('%Y'))"
   ]
  },
  {
   "cell_type": "code",
   "execution_count": null,
   "metadata": {
    "_cell_guid": "ca3807ba-1604-4798-9ffe-1ab542398a44",
    "_uuid": "e4fd2791368074e8c5f66103aeeb2262d95ccb90",
    "collapsed": true,
    "scrolled": true
   },
   "outputs": [],
   "source": [
    "fig, axes = plt.subplots(nrows=5, ncols=2, sharex=True, sharey=True, figsize=(16,20))\n",
    "num_graph = 10\n",
    "id_per_graph = ceil(train.item_category_id.max() / num_graph)\n",
    "count = 0\n",
    "for i in range(5):\n",
    "    for j in range(2):\n",
    "        sns.pointplot(x='month', y='item_cnt_day', hue='item_category_id', \n",
    "                      data=train[np.logical_and(count*id_per_graph <= train['item_category_id'], train['item_category_id'] < (count+1)*id_per_graph)], \n",
    "                      ax=axes[i][j])\n",
    "        count += 1"
   ]
  },
  {
   "cell_type": "code",
   "execution_count": null,
   "metadata": {
    "_cell_guid": "00e32ab2-f8bf-47eb-beb5-74552685d8fd",
    "_uuid": "38148dea57314132a5a8870fdbebf463baea47b5",
    "collapsed": true
   },
   "outputs": [],
   "source": [
    "fig, axes = plt.subplots(nrows=5, ncols=2, sharex=True, sharey=True, figsize=(16,20))\n",
    "num_graph = 10\n",
    "id_per_graph = ceil(train.item_category_id.max() / num_graph)\n",
    "count = 0\n",
    "for i in range(5):\n",
    "    for j in range(2):\n",
    "        sns.pointplot(x='date_block_num', y='item_cnt_day', hue='item_category_id', \n",
    "                      data=train[np.logical_and(count*id_per_graph <= train['item_category_id'], train['item_category_id'] < (count+1)*id_per_graph)], \n",
    "                      ax=axes[i][j])\n",
    "        count += 1"
   ]
  },
  {
   "cell_type": "code",
   "execution_count": null,
   "metadata": {
    "_cell_guid": "66a25d1d-09d7-4c11-a46e-92d30344ddf9",
    "_uuid": "5c2494880ffadc72d1cda14c3a507785d259e949",
    "collapsed": true
   },
   "outputs": [],
   "source": [
    "train = train.drop('date', axis=1)\n",
    "train = train.drop('item_category_id', axis=1)\n",
    "train = train.groupby(['shop_id', 'item_id', 'date_block_num', 'month', 'year']).sum()\n",
    "train = train.sort_index()"
   ]
  },
  {
   "cell_type": "markdown",
   "metadata": {
    "_cell_guid": "65279359-5c7a-44f4-bbfe-3de39b4c3e75",
    "_uuid": "52d6c61ad9ed3c420b75a072d8fd8e104a79d916"
   },
   "source": [
    "# Training\n",
    "In gradient based learning method, it is common to normalize the numerical variable to speed up the training"
   ]
  },
  {
   "cell_type": "code",
   "execution_count": null,
   "metadata": {
    "_cell_guid": "61913152-678d-4493-a144-717d686bd660",
    "_uuid": "805f726c31c454c6bf5b61bed1b65cbca077414f",
    "collapsed": true
   },
   "outputs": [],
   "source": [
    "scaler = StandardScaler()\n",
    "cnt_scaler = StandardScaler()\n",
    "\n",
    "scaler.fit(train.item_price.as_matrix().reshape(-1, 1))\n",
    "cnt_scaler.fit(train.item_cnt_day.as_matrix().reshape(-1, 1))\n",
    "\n",
    "train.item_price = scaler.transform(train.item_price.as_matrix().reshape(-1, 1))\n",
    "train.item_cnt_day = cnt_scaler.transform(train.item_cnt_day.as_matrix().reshape(-1, 1))"
   ]
  },
  {
   "cell_type": "markdown",
   "metadata": {
    "_cell_guid": "056549e0-8ee4-41df-8484-99b4c6294aa8",
    "_uuid": "6bc7d018fada0f87c1cd6d05b07923f0e414ee24"
   },
   "source": [
    "## Missing data\n",
    "Not every item is saled in the above time period, we will add a record for them with `item_cnt_day` as 0. The `price` is a little bit tricky. As can be seen at the code below, price of an item depends on shop and point of time. We will fill in empty values with the closest past record."
   ]
  },
  {
   "cell_type": "code",
   "execution_count": null,
   "metadata": {
    "_cell_guid": "d7d3fe94-ffe3-40a0-8bb4-bb2ba1bfe9a7",
    "_uuid": "9c4ce104f293ade9ca19e356410afd1ccbc6ef95",
    "collapsed": true
   },
   "outputs": [],
   "source": [
    "train.reset_index().groupby(['item_id', 'date_block_num', 'shop_id']).mean()"
   ]
  },
  {
   "cell_type": "markdown",
   "metadata": {
    "_cell_guid": "bfe01ab6-267d-48a1-97d9-65049d2f8a75",
    "_uuid": "9c26cf5a332c0d79302a474e62c095a653d7b7de"
   },
   "source": [
    "For easier grouping, I would change the grouping order a little"
   ]
  },
  {
   "cell_type": "code",
   "execution_count": null,
   "metadata": {
    "_cell_guid": "ce385b75-6195-4719-a1cb-79520da01528",
    "_uuid": "7a8f3b950ad7bc19428f4b91bbd7fa702d06caac",
    "collapsed": true
   },
   "outputs": [],
   "source": [
    "price = train.reset_index().set_index(['item_id', 'shop_id', 'date_block_num'])\n",
    "price = price.sort_index()"
   ]
  },
  {
   "cell_type": "markdown",
   "metadata": {
    "_cell_guid": "3bf57852-9677-4c73-8c69-321925cd24d5",
    "_uuid": "24cdc199faa4adaaf5237ce492e5dd74f3c2a49b"
   },
   "source": [
    "I would then define some helper functions"
   ]
  },
  {
   "cell_type": "code",
   "execution_count": null,
   "metadata": {
    "_cell_guid": "b27ff76d-0e42-43da-b3ab-77ccb635b606",
    "_uuid": "419b59baf0f87e0f5a68c09d5cef712f45166127",
    "collapsed": true
   },
   "outputs": [],
   "source": [
    "def convert(date_block):\n",
    "    date = datetime(2013, 1, 1)\n",
    "    date += relativedelta(months = date_block)\n",
    "    return (date.month, date.year)\n",
    "\n",
    "def closest_date_block(current_day, item_id, shop_id):\n",
    "    \"\"\"Find the block_date which is closest to the current_day, given item_id and shop_id. Returns index integer\"\"\"\n",
    "    if (item_id, shop_id) in price.index:\n",
    "        search_lst = np.array(price.loc[(item_id, shop_id)].index)        \n",
    "        return search_lst[np.abs(current_day - search_lst).argmin()]\n",
    "    return -1\n",
    "                \n",
    "def closest_price(current_day, item_id, shop_id):\n",
    "    closest_date = closest_date_block(current_day, item_id, shop_id)\n",
    "    if closest_date != -1:\n",
    "        return price.loc[( item_id, shop_id, closest_date )]['item_price']\n",
    "    return np.nan\n",
    "\n",
    "def closest_price_lambda(x):\n",
    "    return closest_price(34, x.item_id, x.shop_id)"
   ]
  },
  {
   "cell_type": "code",
   "execution_count": null,
   "metadata": {
    "_cell_guid": "0980eaba-ba01-40ae-aafe-ca3bdad5406d",
    "_uuid": "cfebe3bb9d271808df6efe581c350da2354cd04d",
    "collapsed": true
   },
   "outputs": [],
   "source": [
    "assert closest_date_block(18, 30, 5) == 18"
   ]
  },
  {
   "cell_type": "code",
   "execution_count": null,
   "metadata": {
    "_cell_guid": "44cfcca7-8ab0-4d5a-a9b0-b62e80aba651",
    "_uuid": "f3ce68ed3481f06f6efceb26f99a4ae5ae04e0b2",
    "collapsed": true
   },
   "outputs": [],
   "source": [
    "# Some simple math to know what date_block_num to start learning\n",
    "print(convert(6))\n",
    "print(convert(18))\n",
    "print(convert(30))"
   ]
  },
  {
   "cell_type": "markdown",
   "metadata": {
    "_cell_guid": "b0eb3984-5dbe-40a6-a6fb-9bbc8afce1cf",
    "_uuid": "3efa78a63dc46931e988b6b91baf4a21a2c7aeb3"
   },
   "source": [
    "We will do some simple math to find out what block should we train on"
   ]
  },
  {
   "cell_type": "code",
   "execution_count": null,
   "metadata": {
    "_cell_guid": "514aa31b-a975-4212-8b7a-74d2d3027191",
    "_uuid": "808a0a6bc8f8f2ae614588dea214c24744c94d50",
    "collapsed": true,
    "scrolled": true
   },
   "outputs": [],
   "source": [
    "maxlen = 4 # 4 months\n",
    "step = 1\n",
    "# 0: train, 1: val, 2:test\n",
    "sentences = [[],[],[]]\n",
    "next_chars = [[], []]\n",
    "BLOCKS = [6, 18, 30]\n",
    "\n",
    "for s in test_shops:\n",
    "    shop_items = list(train.loc[s].index.get_level_values(0).unique())\n",
    "    for it in shop_items:        \n",
    "        for i_index, i in enumerate(BLOCKS):\n",
    "            sentence = []\n",
    "            closest_pc = closest_price(i, it, s)            \n",
    "            for j in range(maxlen+1):\n",
    "                if j < maxlen:\n",
    "                    if (s, it, i+j) in train.index:\n",
    "                        r = train.loc[(s, it, i + j)].to_dict(orient='list')                    \n",
    "                        closest_pc = r['item_price'][0]\n",
    "                        item_cnt_day = r['item_cnt_day'][0]\n",
    "                        row = {'shop_id': s, 'date_block_num': i+j, 'item_cnt_day': item_cnt_day, \n",
    "                               'month': month, 'item_id': it, 'item_price': closest_pc, 'year': year}\n",
    "                    else:\n",
    "                        month, year = convert(i+j)                    \n",
    "                        row = {'shop_id': s, 'date_block_num': i+j, 'item_cnt_day': 0, \n",
    "                               'month': month, 'item_id': it, 'item_price': closest_pc, 'year': year}\n",
    "                    sentence.append(row)\n",
    "                elif i_index < 2:   # not in test set\n",
    "                    next_chars[i_index].append(row)\n",
    "            sentences[i_index].append(sentence)"
   ]
  },
  {
   "cell_type": "code",
   "execution_count": null,
   "metadata": {
    "_cell_guid": "d6c9c292-eb92-48fd-97c1-f7c8dcb26e9a",
    "_uuid": "c716417dd7d9c2ba5a75daa2670898c43904fd80",
    "collapsed": true
   },
   "outputs": [],
   "source": [
    "x_train_o = np.array(sentences[0])\n",
    "x_val_o = np.array(sentences[1])\n",
    "x_test_o = np.array(sentences[2])\n",
    "y_train = np.array([x['item_cnt_day'] for x in next_chars[0]])\n",
    "y_val = np.array([x['item_cnt_day'] for x in next_chars[1]])"
   ]
  },
  {
   "cell_type": "code",
   "execution_count": null,
   "metadata": {
    "_cell_guid": "1186111e-6bfd-4928-8825-110ea1f0247d",
    "_uuid": "741f05e76a58f131088b74e6dae0a1746821ef04",
    "collapsed": true
   },
   "outputs": [],
   "source": [
    "length = MAX_SHOP + MAX_ITEM + MAX_MONTH + 1 + 1 + 1"
   ]
  },
  {
   "cell_type": "markdown",
   "metadata": {
    "_cell_guid": "ba7f4773-e20e-4b7e-9417-0de1ec6b93ec",
    "_uuid": "5da0cfc987216392bee62d2fe13aa3e8b065106c"
   },
   "source": [
    "Next, we would transform categorical value to their one-hot encoding version"
   ]
  },
  {
   "cell_type": "code",
   "execution_count": null,
   "metadata": {
    "_cell_guid": "2ebaaae0-1dc6-4dee-ac3d-d12ba67edff1",
    "_uuid": "0c046991d56107f87a12805601ead81e352feca7",
    "collapsed": true,
    "scrolled": true
   },
   "outputs": [],
   "source": [
    "from sklearn import preprocessing\n",
    "\n",
    "shop_le = preprocessing.LabelEncoder()\n",
    "shop_le.fit(test_shops)\n",
    "shop_dm = dict(zip(test_shops, shop_le.transform(test_shops)))\n",
    "\n",
    "item_le = preprocessing.LabelEncoder()\n",
    "item_le.fit(test_items)\n",
    "item_dm = dict(zip(test_items, item_le.transform(test_items)))\n",
    "\n",
    "month_le = preprocessing.LabelEncoder()\n",
    "month_le.fit(range(7,11))\n",
    "month_dm = dict(zip(range(7,11), month_le.transform(range(7,11))))\n",
    "\n",
    "#cat_le = preprocessing.LabelEncoder()\n",
    "#cat_le.fit(item_cats.item_category_id)\n",
    "#cat_dm = dict(zip(item_cats.item_category_id.unique(), cat_le.transform(item_cats.item_category_id.unique())))"
   ]
  },
  {
   "cell_type": "code",
   "execution_count": null,
   "metadata": {
    "_cell_guid": "79c7e3d0-c299-4dcb-8224-4455121ee9b0",
    "_uuid": "d629ff2d2480ee46fbb7e2d37f6b5fab8052498a",
    "collapsed": true,
    "scrolled": false
   },
   "outputs": [],
   "source": [
    "def vectorize(inp):\n",
    "    print('Vectorization...')   \n",
    "    x = np.zeros((len(inp), maxlen, length), dtype=np.float32)\n",
    "    for i, sentence in enumerate(inp):\n",
    "        for t, char in enumerate(sentence):            \n",
    "            x[i][t][ shop_dm[char['shop_id']] ] = 1        \n",
    "            x[i][t][ MAX_SHOP + item_dm[char['item_id']] ] = 1\n",
    "            x[i][t][ MAX_SHOP + MAX_ITEM + month_dm[char['month']] ] = 1\n",
    "            x[i][t][ MAX_SHOP + MAX_ITEM + MAX_MONTH + 1 ] = char['item_price']\n",
    "            x[i][t][ MAX_SHOP + MAX_ITEM + MAX_MONTH + 1 + 1] = char['item_cnt_day']    \n",
    "    return x"
   ]
  },
  {
   "cell_type": "code",
   "execution_count": null,
   "metadata": {
    "_cell_guid": "fab8ea82-6977-4151-93fd-e3ed3286e4d5",
    "_uuid": "148244af67ca53738657c2bf7b4d39676c54d4ed",
    "collapsed": true
   },
   "outputs": [],
   "source": [
    "x_train = vectorize(x_train_o)\n",
    "x_val = vectorize(x_val_o)\n",
    "x_test = vectorize(x_test_o)"
   ]
  },
  {
   "cell_type": "code",
   "execution_count": null,
   "metadata": {
    "_cell_guid": "9b3e811a-cca4-4432-a4b4-df2d46c5d30e",
    "_uuid": "ca53d5b54b9204d3be10900bedf2fed76de46e9e",
    "collapsed": true
   },
   "outputs": [],
   "source": [
    "# build the model: a single LSTM\n",
    "print('Build model...')\n",
    "model = Sequential()\n",
    "model.add(LSTM(32, input_shape=(maxlen, length)))\n",
    "model.add(Dense(1, activation='relu'))\n",
    "\n",
    "optimizer = RMSprop(lr=0.005)\n",
    "model.compile(loss='mean_squared_error', optimizer=optimizer)\n",
    "\n",
    "model.fit(x_train, y_train, batch_size=128, epochs=13)"
   ]
  },
  {
   "cell_type": "markdown",
   "metadata": {
    "_cell_guid": "419525f0-df55-43ea-9f75-633117be58f1",
    "_uuid": "55f141b7e5b9d786f415f51594cf4c39ebd031d5"
   },
   "source": [
    "Below is the evaluation code for the model. For the speed of the kernel, I have commented them, but you can still find the result at the end of the cell"
   ]
  },
  {
   "cell_type": "code",
   "execution_count": null,
   "metadata": {
    "_cell_guid": "1c18cf24-dbd1-4357-9ed4-0746273b056e",
    "_uuid": "ba1366360e434ce266ef15a4a032f86ac58af938",
    "collapsed": true
   },
   "outputs": [],
   "source": [
    "#import math\n",
    "#from sklearn.metrics import mean_squared_error\n",
    "\n",
    "# make predictions\n",
    "#predict_train = model.predict(x_train)\n",
    "#predict_val = model.predict(x_val)\n",
    "# invert predictions\n",
    "#predict_train = cnt_scaler.inverse_transform(predict_train)\n",
    "#y_train = cnt_scaler.inverse_transform(y_train)\n",
    "#predict_val = cnt_scaler.inverse_transform(predict_val)\n",
    "#y_val = cnt_scaler.inverse_transform(y_val)\n",
    "# calculate root mean squared error\n",
    "#trainScore = math.sqrt(mean_squared_error(predict_train, y_train))\n",
    "#print('Train Score: %.2f RMSE' % (trainScore))\n",
    "#valScore = math.sqrt(mean_squared_error(predict_val, y_val))\n",
    "#print('Test Score: %.2f RMSE' % (valScore))\n",
    "#For 1 epoch\n",
    "#Train Score: 3.85 RMSE\n",
    "#Test Score: 4.29 RMSE"
   ]
  },
  {
   "cell_type": "markdown",
   "metadata": {
    "_cell_guid": "e9862498-8da8-480f-a5bc-ecc2733d15d0",
    "_uuid": "5ce723d9308366f89c64a11bd2de498088f172c4"
   },
   "source": [
    "The learning seems to converge. We will then incrementally train on the validation set ([why does it work](https://github.com/keras-team/keras/issues/4446#issuecomment-261804574))"
   ]
  },
  {
   "cell_type": "code",
   "execution_count": null,
   "metadata": {
    "_cell_guid": "f2d9e8c0-689d-4061-b644-266e76ad944d",
    "_uuid": "ac04fe8867b2eadf71d329c2eac382f0f7311c98",
    "collapsed": true
   },
   "outputs": [],
   "source": [
    "model.fit(x_val, y_val, batch_size=128, epochs=13)"
   ]
  },
  {
   "cell_type": "markdown",
   "metadata": {
    "_cell_guid": "cc342def-c1a4-4af5-ad92-e910b4b2eb4a",
    "_uuid": "2c345fbfa300c062f420d4105d699aa1000a03b6"
   },
   "source": [
    "# Inference\n",
    "With everything prepared, let's moved to the inference part"
   ]
  },
  {
   "cell_type": "code",
   "execution_count": null,
   "metadata": {
    "_cell_guid": "eab546ff-e55f-47c9-8fed-c3fb285a1a1d",
    "_uuid": "d47a99bb63486526705e609d1ac2848598bfc3dc",
    "collapsed": true
   },
   "outputs": [],
   "source": [
    "predict_test = model.predict(x_test)\n",
    "predict_test = cnt_scaler.inverse_transform(predict_test)"
   ]
  },
  {
   "cell_type": "code",
   "execution_count": null,
   "metadata": {
    "_cell_guid": "6df69931-1d66-412c-a16f-e5274917c02b",
    "_uuid": "0f178c46daca5e50c51bdf8ce7d079ea2cf4614c",
    "collapsed": true
   },
   "outputs": [],
   "source": [
    "test = test.set_index(['shop_id', 'item_id'])\n",
    "test['item_cnt_month'] = 0"
   ]
  },
  {
   "cell_type": "code",
   "execution_count": null,
   "metadata": {
    "_cell_guid": "21a0eb35-d89c-43be-839b-8adad1943e30",
    "_uuid": "f0e9e8dc62ce4d11894f77a0280805ec34e1ce48",
    "collapsed": true
   },
   "outputs": [],
   "source": [
    "for index, sentence in enumerate(x_test_o):\n",
    "    (shop_id, item_id) = (sentence[0]['shop_id'], sentence[0]['item_id'])\n",
    "    test.loc[(shop_id, item_id)]['item_cnt_month'] = predict_test[index]"
   ]
  },
  {
   "cell_type": "code",
   "execution_count": null,
   "metadata": {
    "_cell_guid": "fa774eb2-9750-4f9d-a5ae-992d2b270b16",
    "_uuid": "37688da4bb282b08bb567f97ffcc887f8494d322",
    "collapsed": true
   },
   "outputs": [],
   "source": [
    "test = test.reset_index().drop(['shop_id', 'item_id'], axis=1)\n",
    "test.to_csv('submission.csv', index=False)"
   ]
  }
 ],
 "metadata": {
  "kernelspec": {
   "display_name": "Python 3",
   "language": "python",
   "name": "python3"
  },
  "language_info": {
   "codemirror_mode": {
    "name": "ipython",
    "version": 3
   },
   "file_extension": ".py",
   "mimetype": "text/x-python",
   "name": "python",
   "nbconvert_exporter": "python",
   "pygments_lexer": "ipython3",
   "version": "3.6.8"
  }
 },
 "nbformat": 4,
 "nbformat_minor": 1
}
